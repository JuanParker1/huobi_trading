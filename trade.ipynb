{
 "metadata": {
  "language_info": {
   "codemirror_mode": {
    "name": "ipython",
    "version": 3
   },
   "file_extension": ".py",
   "mimetype": "text/x-python",
   "name": "python",
   "nbconvert_exporter": "python",
   "pygments_lexer": "ipython3",
   "version": "3.7.9-final"
  },
  "orig_nbformat": 2,
  "kernelspec": {
   "name": "python3",
   "display_name": "Python 3",
   "language": "python"
  }
 },
 "nbformat": 4,
 "nbformat_minor": 2,
 "cells": [
  {
   "cell_type": "code",
   "execution_count": 6,
   "metadata": {},
   "outputs": [],
   "source": [
    "from huobi.client.trade import TradeClient\n",
    "from huobi.constant import *\n",
    "from huobi.utils import *\n",
    "from huobi.privateconfig import p_api_key, p_secret_key"
   ]
  },
  {
   "cell_type": "code",
   "execution_count": 8,
   "metadata": {},
   "outputs": [
    {
     "output_type": "stream",
     "name": "stdout",
     "text": [
      "===== step 1 ==== btc3susdt 0 orders found\n"
     ]
    }
   ],
   "source": [
    "symbol = \"btc3susdt\"\n",
    "trade_client = TradeClient(api_key=p_api_key, secret_key=p_secret_key)\n",
    "list_obj = trade_client.get_orders(symbol=symbol, order_state=OrderState.FILLED,\n",
    "                                    order_type=OrderType.BUY_LIMIT, start_date=None, end_date=None,\n",
    "                                   start_id=None, size=None, direct=QueryDirection.PREV)\n",
    "\n",
    "LogInfo.output(\"===== step 1 ==== {symbol} {count} orders found\".format(symbol=symbol, count=len(list_obj)))\n",
    "LogInfo.output_list(list_obj)\n"
   ]
  },
  {
   "cell_type": "code",
   "execution_count": 11,
   "metadata": {},
   "outputs": [
    {
     "output_type": "stream",
     "name": "stdout",
     "text": [
      "Order Id : 204394926274673\nSymbol : eth3susdt\nPrice : 0.007266000000000000\nAmount : 6209.903700000000000000\nCreate Time : 1612789134303\nCancel Time : 0\nFinish Time : 1612789134783\nOrder Type : sell-limit\nFilled Amount : 6209.903700000000000000\nFilled Cash Amount : 45.121160284200000000\nFilled Fees : 0.090242320568400000\nOrder Source : spot-web\nOrder State : filled\nClient Order Id : \nStop Price : \nOperator : \nNext Time : 0\n\nOrder Id : 204376487436031\nSymbol : eth3susdt\nPrice : 0.011000000000000000\nAmount : 1613.917300000000000000\nCreate Time : 1612718454489\nCancel Time : 1612789130472\nFinish Time : 1612789130481\nOrder Type : sell-limit\nFilled Amount : 0.0\nFilled Cash Amount : 0.0\nFilled Fees : 0.0\nOrder Source : spot-ios\nOrder State : canceled\nClient Order Id : \nStop Price : \nOperator : \nNext Time : 0\n\nOrder Id : 204376378786415\nSymbol : eth3susdt\nPrice : 0.010435000000000000\nAmount : 1617.151600000000000000\nCreate Time : 1612718413678\nCancel Time : 0\nFinish Time : 1612718413699\nOrder Type : buy-limit\nFilled Amount : 1617.151600000000000000\nFilled Cash Amount : 16.184453212800000000\nFilled Fees : 3.234303200000000000\nOrder Source : spot-ios\nOrder State : filled\nClient Order Id : \nStop Price : \nOperator : \nNext Time : 0\n\nOrder Id : 204376076858092\nSymbol : eth3susdt\nPrice : 0.011900000000000000\nAmount : 4595.986400000000000000\nCreate Time : 1612716738008\nCancel Time : 1612789131341\nFinish Time : 1612789131353\nOrder Type : sell-limit\nFilled Amount : 0.0\nFilled Cash Amount : 0.0\nFilled Fees : 0.0\nOrder Source : spot-ios\nOrder State : canceled\nClient Order Id : \nStop Price : \nOperator : \nNext Time : 0\n\nOrder Id : 206485804095183\nSymbol : eth3susdt\nPrice : 0.010993000000000000\nAmount : 4605.196800000000000000\nCreate Time : 1612715733172\nCancel Time : 0\nFinish Time : 1612715734178\nOrder Type : buy-limit\nFilled Amount : 4605.196800000000000000\nFilled Cash Amount : 50.624928422400000000\nFilled Fees : 9.210393600000000000\nOrder Source : spot-ios\nOrder State : filled\nClient Order Id : \nStop Price : \nOperator : \nNext Time : 0\n\n"
     ]
    }
   ],
   "source": [
    "symbol_test_list = [\"eth3susdt\"]\n",
    "trade_client = TradeClient(api_key=p_api_key, secret_key=p_secret_key)\n",
    "for symbol_test in symbol_test_list:\n",
    "    list_obj = trade_client.get_history_orders(symbol=symbol_test, start_time=None, end_time=None, size=20, direct=None)\n",
    "    LogInfo.output_list(list_obj)"
   ]
  },
  {
   "cell_type": "code",
   "execution_count": null,
   "metadata": {},
   "outputs": [],
   "source": [
    "class Trader:\n",
    "    def __init__(self):\n",
    "        self.cash=0\n",
    "        self.stock=0\n",
    "    def run(self):\n",
    "        while True:\n",
    "            if self.check_sell_conditon():\n",
    "                self.sell()\n",
    "            elif self.check_buy_conditon()\n",
    "\n",
    "            \n",
    "            self.update_position()\n",
    "            self.log_position()\n",
    "            time.sleep(0.5)"
   ]
  }
 ]
}
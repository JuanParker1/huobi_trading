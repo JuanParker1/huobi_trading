{
 "metadata": {
  "language_info": {
   "codemirror_mode": {
    "name": "ipython",
    "version": 3
   },
   "file_extension": ".py",
   "mimetype": "text/x-python",
   "name": "python",
   "nbconvert_exporter": "python",
   "pygments_lexer": "ipython3",
   "version": "3.7.9-final"
  },
  "orig_nbformat": 2,
  "kernelspec": {
   "name": "python3",
   "display_name": "Python 3",
   "language": "python"
  }
 },
 "nbformat": 4,
 "nbformat_minor": 2,
 "cells": [
  {
   "cell_type": "code",
   "execution_count": 1,
   "metadata": {},
   "outputs": [],
   "source": [
    "import tkinter\n",
    "from tkinter import messagebox\n",
    "import time\n",
    "import numpy as np\n",
    "from huobi.client.market import MarketClient\n",
    "from huobi.constant import *\n",
    "from huobi.utils import *\n",
    "import pandas as pd\n",
    "import matplotlib.pyplot as plt\n",
    "from huobi.client.account import AccountClient\n",
    "import pickle\n",
    "from huobi.privateconfig import p_api_key, p_secret_key\n",
    "import requests\n"
   ]
  },
  {
   "cell_type": "code",
   "execution_count": 2,
   "metadata": {},
   "outputs": [],
   "source": [
    "def alert(msg:str):\n",
    "    root = tkinter.Tk()\n",
    "    root.withdraw()\n",
    "    root.lift()\n",
    "    messagebox.showinfo(\"Title\", msg)"
   ]
  },
  {
   "cell_type": "code",
   "execution_count": 3,
   "metadata": {},
   "outputs": [],
   "source": [
    "market_client = MarketClient(init_log=True)"
   ]
  },
  {
   "cell_type": "code",
   "execution_count": 4,
   "metadata": {
    "tags": []
   },
   "outputs": [
    {
     "output_type": "stream",
     "name": "stdout",
     "text": [
      "---- 5min candlestick for eth3lusdt ----\nId : 1614141300\nHigh : 47.1\nLow : 46.6981\nOpen : 47.0169\nClose : 46.8033\nCount : 81\nAmount : 386.78935212576704\nVolume : 18141.01399317\n\nId : 1614141000\nHigh : 47.6627\nLow : 46.8062\nOpen : 47.0171\nClose : 47.097\nCount : 565\nAmount : 2546.8441277798565\nVolume : 120351.30612621\n\n"
     ]
    }
   ],
   "source": [
    "interval = CandlestickInterval.MIN5\n",
    "symbol = \"eth3lusdt\"\n",
    "list_obj = market_client.get_candlestick(symbol, interval, 2)\n",
    "LogInfo.output(\"---- {interval} candlestick for {symbol} ----\".format(interval=interval, symbol=symbol))\n",
    "LogInfo.output_list(list_obj)"
   ]
  },
  {
   "cell_type": "code",
   "execution_count": 5,
   "metadata": {},
   "outputs": [],
   "source": [
    "def get_etp_detail(name):\n",
    "    url=f\"https://api.huobi.be/market/etp?symbol={name}\"\n",
    "    respond = requests.get(url)\n",
    "    amounts = respond.json()['tick']['basket']\n",
    "    res = {i['currency']:i['amount'] for i in amounts}\n",
    "    return res\n",
    "res=get_etp_detail(\"btc3lusdt\")"
   ]
  },
  {
   "cell_type": "code",
   "execution_count": 6,
   "metadata": {},
   "outputs": [],
   "source": [
    "t=requests.get(\"https://api.huobi.be/market/etp?symbol=eth3lusdt\")"
   ]
  },
  {
   "cell_type": "code",
   "execution_count": 7,
   "metadata": {},
   "outputs": [
    {
     "output_type": "execute_result",
     "data": {
      "text/plain": [
       "{'ch': 'market.eth3lusdt.etp',\n",
       " 'status': 'ok',\n",
       " 'ts': 1614141329707,\n",
       " 'tick': {'actualLeverage': 2.841095123508893,\n",
       "  'nav': 47.084515145528584,\n",
       "  'outstanding': 778158.01217471,\n",
       "  'symbol': 'eth3lusdt',\n",
       "  'navTime': 1614141329659,\n",
       "  'basket': [{'amount': 0.08229616077167001, 'currency': 'eth'},\n",
       "   {'amount': -86.6870712272133, 'currency': 'usdt'}]}}"
      ]
     },
     "metadata": {},
     "execution_count": 7
    }
   ],
   "source": [
    "t.json()"
   ]
  },
  {
   "cell_type": "code",
   "execution_count": 8,
   "metadata": {},
   "outputs": [],
   "source": [
    "def listen(market_client,listen_prices,symbol=\"ethusdt\"):\n",
    "    i=0\n",
    "    while True:\n",
    "        i+=1\n",
    "        interval = CandlestickInterval.MIN1\n",
    "        list_obj = market_client.get_candlestick(symbol, interval, 1)\n",
    "        cur=list_obj[0]\n",
    "        for price in listen_prices:\n",
    "            if cur.low<=price<=cur.high:\n",
    "                alert(f\"{symbol} reaches {price:.2f}\")\n",
    "                return\n",
    "        if i%20==0:\n",
    "            print(cur.low, cur.high)\n",
    "        time.sleep(30)"
   ]
  },
  {
   "cell_type": "code",
   "execution_count": 9,
   "metadata": {
    "tags": []
   },
   "outputs": [],
   "source": [
    "# listen(market_client,[1535,1515])"
   ]
  },
  {
   "cell_type": "code",
   "execution_count": 42,
   "metadata": {},
   "outputs": [],
   "source": [
    "# short\n",
    "res=get_etp_detail(\"btc3susdt\")\n",
    "USDT=res['usdt']\n",
    "COIN =-res['btc']\n",
    "def target_price2(y):\n",
    "    return (USDT-y)/COIN"
   ]
  },
  {
   "cell_type": "code",
   "execution_count": 43,
   "metadata": {},
   "outputs": [
    {
     "output_type": "stream",
     "name": "stdout",
     "text": [
      "0.01400 17502.13346292315\n0.01410 17135.700225312103\n0.01420 16769.26698770106\n0.01430 16402.833750090016\n0.01440 16036.400512478971\n0.01450 15669.967274867926\n0.01460 15303.534037256883\n0.01470 14937.100799645837\n0.01480 14570.667562034792\n0.01490 14204.234324423749\n0.01500 13837.801086812704\n0.01510 13471.36784920166\n0.01520 13104.934611590616\n0.01530 12738.501373979572\n0.01540 12372.068136368527\n0.01550 12005.634898757482\n0.01560 11639.201661146439\n0.01570 11272.768423535388\n0.01580 10906.335185924356\n0.01590 10539.9019483133\n0.01600 10173.468710702267\n0.01610 9807.03547309121\n0.01620 9440.602235480179\n0.01630 9074.168997869121\n0.01640 8707.73576025809\n0.01650 8341.302522647033\n0.01660 7974.869285036001\n0.01670 7608.436047424944\n0.01680 7242.002809813913\n0.01690 6875.569572202856\n0.01700 6509.136334591824\n0.01710 6142.7030969807665\n0.01720 5776.269859369735\n0.01730 5409.836621758678\n0.01740 5043.403384147647\n0.01750 4676.97014653659\n0.01760 4310.536908925558\n0.01770 3944.103671314501\n0.01780 3577.6704337034694\n0.01790 3211.2371960924124\n0.01800 2844.8039584813805\n0.01810 2478.3707208703236\n0.01820 2111.937483259292\n0.01830 1745.504245648235\n0.01840 1379.0710080372032\n0.01850 1012.6377704261462\n0.01860 646.2045328151146\n0.01870 279.77129520405754\n0.01880 -86.66194240697412\n0.01890 -453.09518001803116\n0.01900 -819.5284176290628\n0.01910 -1185.9616552401199\n0.01920 -1552.3948928511516\n0.01930 -1918.8281304622085\n0.01940 -2285.26136807324\n0.01950 -2651.694605684297\n0.01960 -3018.127843295329\n0.01970 -3384.561080906386\n0.01980 -3750.9943185174175\n0.01990 -4117.427556128475\n0.02000 -4483.860793739506\n0.02010 -4850.294031350563\n0.02020 -5216.727268961595\n0.02030 -5583.160506572652\n0.02040 -5949.593744183683\n0.02050 -6316.026981794741\n0.02060 -6682.4602194057725\n0.02070 -7048.893457016829\n0.02080 -7415.326694627861\n0.02090 -7781.759932238918\n"
     ]
    }
   ],
   "source": [
    "x=np.arange(0.014,0.021,0.0001)\n",
    "# y=[target_price(i) for i in x]\n",
    "for i in x:\n",
    "    print(f\"{i:0.5f}\", target_price2(i))"
   ]
  },
  {
   "cell_type": "code",
   "execution_count": 7,
   "metadata": {},
   "outputs": [],
   "source": [
    "# long\n",
    "SYMBOL=\"eth\"\n",
    "res=get_etp_detail(f\"{SYMBOL}3lusdt\")\n",
    "USDT=-res['usdt']\n",
    "COIN=res[SYMBOL]\n",
    "def target_price(y):\n",
    "    return (y+USDT)/COIN"
   ]
  },
  {
   "cell_type": "code",
   "execution_count": 13,
   "metadata": {},
   "outputs": [
    {
     "output_type": "execute_result",
     "data": {
      "text/plain": [
       "47.895"
      ]
     },
     "metadata": {},
     "execution_count": 13
    }
   ],
   "source": [
    "46.5*1.03"
   ]
  },
  {
   "cell_type": "code",
   "execution_count": 8,
   "metadata": {},
   "outputs": [
    {
     "output_type": "stream",
     "name": "stdout",
     "text": [
      "50.000 1660.9167419905577\n51.000 1673.067977122589\n52.000 1685.2192122546198\n53.000 1697.370447386651\n54.000 1709.5216825186822\n55.000 1721.6729176507133\n56.000 1733.8241527827445\n57.000 1745.9753879147756\n58.000 1758.1266230468068\n59.000 1770.277858178838\n60.000 1782.4290933108691\n61.000 1794.5803284429003\n62.000 1806.7315635749314\n63.000 1818.8827987069626\n64.000 1831.0340338389938\n65.000 1843.185268971025\n66.000 1855.336504103056\n67.000 1867.487739235087\n68.000 1879.6389743671182\n69.000 1891.7902094991493\n70.000 1903.9414446311805\n71.000 1916.0926797632117\n72.000 1928.2439148952428\n73.000 1940.395150027274\n74.000 1952.5463851593051\n75.000 1964.6976202913363\n76.000 1976.8488554233675\n77.000 1989.0000905553986\n78.000 2001.1513256874298\n79.000 2013.302560819461\n80.000 2025.453795951492\n81.000 2037.605031083523\n82.000 2049.756266215554\n83.000 2061.9075013475854\n84.000 2074.0587364796165\n85.000 2086.2099716116477\n86.000 2098.361206743679\n87.000 2110.51244187571\n88.000 2122.663677007741\n89.000 2134.8149121397723\n90.000 2146.9661472718035\n91.000 2159.1173824038347\n92.000 2171.268617535866\n93.000 2183.419852667897\n94.000 2195.571087799928\n95.000 2207.7223229319593\n96.000 2219.8735580639905\n97.000 2232.0247931960216\n98.000 2244.176028328053\n99.000 2256.327263460084\n"
     ]
    }
   ],
   "source": [
    "x=np.arange(50,100,1)\n",
    "# y=[target_price(i) for i in x]\n",
    "for i in x:\n",
    "    print(f\"{i:0.3f}\", target_price(i))"
   ]
  },
  {
   "cell_type": "code",
   "execution_count": 11,
   "metadata": {},
   "outputs": [
    {
     "output_type": "stream",
     "name": "stdout",
     "text": [
      "542 547.42 558.26 569.1 596.2\n"
     ]
    }
   ],
   "source": [
    "def app(x):\n",
    "    print(x,x*1.01,x*1.03,x*1.05,x*1.1)\n",
    "app(542)"
   ]
  },
  {
   "cell_type": "code",
   "execution_count": 9,
   "metadata": {},
   "outputs": [
    {
     "output_type": "stream",
     "name": "stderr",
     "text": [
      "2021-02-08 15:44:27,461 - huobi-client - INFO - [Sub][1] Connecting...\n",
      "2021-02-08 15:44:27,461 - huobi-client - INFO - [Sub][1] Connecting...\n",
      "2021-02-08 15:44:27,461 - huobi-client - INFO - [Sub][1] Connecting...\n",
      "2021-02-08 15:44:27,461 - huobi-client - INFO - [Sub][1] Connecting...\n",
      "2021-02-08 15:44:48,524 - huobi-client - ERROR - [Sub][1] Unexpected error: [WinError 10060] A connection attempt failed because the connected party did not properly respond after a period of time, or established connection failed because connected host has failed to respond\n",
      "2021-02-08 15:44:48,524 - huobi-client - ERROR - [Sub][1] Unexpected error: [WinError 10060] A connection attempt failed because the connected party did not properly respond after a period of time, or established connection failed because connected host has failed to respond\n",
      "2021-02-08 15:44:48,524 - huobi-client - ERROR - [Sub][1] Unexpected error: [WinError 10060] A connection attempt failed because the connected party did not properly respond after a period of time, or established connection failed because connected host has failed to respond\n",
      "2021-02-08 15:44:48,524 - huobi-client - ERROR - [Sub][1] Unexpected error: [WinError 10060] A connection attempt failed because the connected party did not properly respond after a period of time, or established connection failed because connected host has failed to respond\n",
      "2021-02-08 15:44:48,525 - huobi-client - ERROR - [Sub][1] Connection is closing due to error\n",
      "2021-02-08 15:44:48,525 - huobi-client - ERROR - [Sub][1] Connection is closing due to error\n",
      "2021-02-08 15:44:48,525 - huobi-client - ERROR - [Sub][1] Connection is closing due to error\n",
      "2021-02-08 15:44:48,525 - huobi-client - ERROR - [Sub][1] Connection is closing due to error\n",
      "2021-02-08 15:44:48,528 - huobi-client - INFO - [Sub][1] Connection event loop down\n",
      "2021-02-08 15:44:48,528 - huobi-client - INFO - [Sub][1] Connection event loop down\n",
      "2021-02-08 15:44:48,528 - huobi-client - INFO - [Sub][1] Connection event loop down\n",
      "2021-02-08 15:44:48,528 - huobi-client - INFO - [Sub][1] Connection event loop down\n"
     ]
    }
   ],
   "source": [
    "from websocket import create_connection\n",
    "\n",
    "ws = create_connection(\"wss://api.huobi.pro/ws\", timeout=5)\n",
    "if ws.connected:\n",
    "      ws.send('8')\n",
    "      print(ws.recv())"
   ]
  },
  {
   "cell_type": "code",
   "execution_count": 40,
   "metadata": {},
   "outputs": [],
   "source": [
    "import pickle"
   ]
  },
  {
   "cell_type": "code",
   "execution_count": 41,
   "metadata": {},
   "outputs": [],
   "source": [
    "with open('save.pkl', 'rb') as f:\n",
    "    t=pickle.load(f)"
   ]
  },
  {
   "cell_type": "code",
   "execution_count": 42,
   "metadata": {},
   "outputs": [
    {
     "output_type": "execute_result",
     "data": {
      "text/plain": [
       "54989"
      ]
     },
     "metadata": {},
     "execution_count": 42
    }
   ],
   "source": [
    "len(t)"
   ]
  },
  {
   "cell_type": "code",
   "execution_count": 45,
   "metadata": {},
   "outputs": [],
   "source": [
    "k=sorted(t, key=lambda x:x.id)"
   ]
  },
  {
   "cell_type": "code",
   "execution_count": 47,
   "metadata": {},
   "outputs": [
    {
     "output_type": "execute_result",
     "data": {
      "text/plain": [
       "28822.69"
      ]
     },
     "metadata": {},
     "execution_count": 47
    }
   ],
   "source": [
    "k[0].close"
   ]
  },
  {
   "cell_type": "code",
   "execution_count": 5,
   "metadata": {},
   "outputs": [
    {
     "output_type": "execute_result",
     "data": {
      "text/plain": [
       "185.66666666666666"
      ]
     },
     "metadata": {},
     "execution_count": 5
    }
   ],
   "source": [
    "11140/(60)"
   ]
  },
  {
   "cell_type": "code",
   "execution_count": 6,
   "metadata": {},
   "outputs": [
    {
     "output_type": "stream",
     "name": "stdout",
     "text": [
      "2185838296368\n2185838293712\n"
     ]
    }
   ],
   "source": [
    "c=10**9+7\n",
    "print(id(c))\n",
    "c=10**9+8\n",
    "print(id(c))"
   ]
  },
  {
   "cell_type": "code",
   "execution_count": 13,
   "metadata": {},
   "outputs": [
    {
     "output_type": "stream",
     "name": "stdout",
     "text": [
      "2185904332552\n2185904332552\n"
     ]
    }
   ],
   "source": [
    "c=[]\n",
    "print(id(c))\n",
    "c.append(1)\n",
    "print(id(c))"
   ]
  },
  {
   "cell_type": "code",
   "execution_count": 26,
   "metadata": {},
   "outputs": [],
   "source": [
    "def func():\n",
    "    c=0\n",
    "    print(id(c))\n",
    "    def inner():\n",
    "        c=1 # re-assign to local variable\n",
    "        print(id(c)) \n",
    "        return\n",
    "    inner()\n",
    "    return"
   ]
  },
  {
   "cell_type": "code",
   "execution_count": 27,
   "metadata": {},
   "outputs": [
    {
     "output_type": "stream",
     "name": "stdout",
     "text": [
      "140731315954032\n140731315954064\n"
     ]
    }
   ],
   "source": [
    "func()"
   ]
  },
  {
   "cell_type": "code",
   "execution_count": 28,
   "metadata": {},
   "outputs": [],
   "source": [
    "c=1\n",
    "c=2 # spawn new variable c, old `c=1` shadowed"
   ]
  },
  {
   "cell_type": "code",
   "execution_count": 3,
   "metadata": {},
   "outputs": [],
   "source": [
    "from huobi.client.market import MarketClient\n",
    "from huobi.constant import *\n",
    "from huobi.exception.huobi_api_exception import HuobiApiException\n",
    "import pickle\n",
    "import time\n",
    "\n",
    "SYMBOL = \"btc3susdt\"\n",
    "\n",
    "save=[]\n",
    "\n",
    "\n",
    "def callback(candlestick_req: 'CandlestickReq'):\n",
    "    save.extend(candlestick_req.data)\n",
    "\n",
    "def error(e: 'HuobiApiException'):\n",
    "    print(e.error_code + e.error_message)"
   ]
  },
  {
   "cell_type": "code",
   "execution_count": 74,
   "metadata": {
    "tags": [
     "outputPrepend"
    ]
   },
   "outputs": [
    {
     "output_type": "stream",
     "name": "stderr",
     "text": [
      "246 - huobi-client - INFO - [Sub][240] Connected to server\n",
      "2021-02-08 17:18:37,229 - huobi-client - INFO - [Sub][232] Connection event loop down\n",
      "2021-02-08 17:18:37,246 - huobi-client - INFO - [Sub][240] Connected to server\n",
      "2021-02-08 17:18:37,229 - huobi-client - INFO - [Sub][232] Connection event loop down\n",
      "2021-02-08 17:18:37,246 - huobi-client - INFO - [Sub][240] Connected to server\n",
      "2021-02-08 17:18:37,229 - huobi-client - INFO - [Sub][232] Connection event loop down\n",
      "2021-02-08 17:18:37,246 - huobi-client - INFO - [Sub][240] Connected to server\n",
      "2021-02-08 17:18:37,229 - huobi-client - INFO - [Sub][232] Connection event loop down\n",
      "2021-02-08 17:18:37,246 - huobi-client - INFO - [Sub][240] Connected to server\n",
      "2021-02-08 17:18:37,229 - huobi-client - INFO - [Sub][232] Connection event loop down\n",
      "2021-02-08 17:18:37,246 - huobi-client - INFO - [Sub][240] Connected to server\n",
      "2021-02-08 17:18:37,229 - huobi-client - INFO - [Sub][232] Connection event loop down\n",
      "2021-02-08 17:18:37,246 - huobi-client - INFO - [Sub][240] Connected to server\n",
      "2021-02-08 17:18:37,229 - huobi-client - INFO - [Sub][232] Connection event loop down\n",
      "2021-02-08 17:18:37,246 - huobi-client - INFO - [Sub][240] Connected to server\n",
      "2021-02-08 17:18:37,229 - huobi-client - INFO - [Sub][232] Connection event loop down\n",
      "2021-02-08 17:18:37,246 - huobi-client - INFO - [Sub][240] Connected to server\n",
      "2021-02-08 17:18:37,229 - huobi-client - INFO - [Sub][232] Connection event loop down\n",
      "2021-02-08 17:18:37,246 - huobi-client - INFO - [Sub][240] Connected to server\n",
      "2021-02-08 17:18:37,229 - huobi-client - INFO - [Sub][232] Connection event loop down\n",
      "2021-02-08 17:18:37,246 - huobi-client - INFO - [Sub][240] Connected to server\n",
      "2021-02-08 17:18:37,229 - huobi-client - INFO - [Sub][232] Connection event loop down\n",
      "2021-02-08 17:18:37,246 - huobi-client - INFO - [Sub][240] Connected to server\n",
      "2021-02-08 17:18:37,229 - huobi-client - INFO - [Sub][232] Connection event loop down\n",
      "2021-02-08 17:18:37,246 - huobi-client - INFO - [Sub][240] Connected to server\n",
      "2021-02-08 17:18:37,229 - huobi-client - INFO - [Sub][232] Connection event loop down\n",
      "2021-02-08 17:18:37,246 - huobi-client - INFO - [Sub][240] Connected to server\n",
      "2021-02-08 17:18:37,229 - huobi-client - INFO - [Sub][232] Connection event loop down\n",
      "2021-02-08 17:18:37,246 - huobi-client - INFO - [Sub][240] Connected to server\n",
      "2021-02-08 17:18:37,229 - huobi-client - INFO - [Sub][232] Connection event loop down\n",
      "2021-02-08 17:18:37,229 - huobi-client - INFO - [Sub][232] Connection event loop down\n",
      "2021-02-08 17:18:37,246 - huobi-client - INFO - [Sub][240] Connected to server\n",
      "2021-02-08 17:18:37,229 - huobi-client - INFO - [Sub][232] Connection event loop down\n",
      "2021-02-08 17:18:37,246 - huobi-client - INFO - [Sub][240] Connected to server\n",
      "2021-02-08 17:18:37,229 - huobi-client - INFO - [Sub][232] Connection event loop down\n",
      "2021-02-08 17:18:37,246 - huobi-client - INFO - [Sub][240] Connected to server\n",
      "2021-02-08 17:18:37,229 - huobi-client - INFO - [Sub][232] Connection event loop down\n",
      "2021-02-08 17:18:37,246 - huobi-client - INFO - [Sub][240] Connected to server\n",
      "2021-02-08 17:18:37,229 - huobi-client - INFO - [Sub][232] Connection event loop down\n",
      "2021-02-08 17:18:37,246 - huobi-client - INFO - [Sub][240] Connected to server\n",
      "2021-02-08 17:18:37,229 - huobi-client - INFO - [Sub][232] Connection event loop down\n",
      "2021-02-08 17:18:37,246 - huobi-client - INFO - [Sub][240] Connected to server\n",
      "2021-02-08 17:18:37,229 - huobi-client - INFO - [Sub][232] Connection event loop down\n",
      "2021-02-08 17:18:37,246 - huobi-client - INFO - [Sub][240] Connected to server\n",
      "2021-02-08 17:18:37,246 - huobi-client - INFO - [Sub][240] Connected to server\n",
      "2021-02-08 17:18:37,229 - huobi-client - INFO - [Sub][232] Connection event loop down\n",
      "2021-02-08 17:18:37,229 - huobi-client - INFO - [Sub][232] Connection event loop down\n",
      "2021-02-08 17:18:37,246 - huobi-client - INFO - [Sub][240] Connected to server\n",
      "2021-02-08 17:18:37,246 - huobi-client - INFO - [Sub][240] Connected to server\n",
      "2021-02-08 17:18:37,229 - huobi-client - INFO - [Sub][232] Connection event loop down\n",
      "2021-02-08 17:18:37,246 - huobi-client - INFO - [Sub][240] Connected to server\n",
      "2021-02-08 17:18:37,229 - huobi-client - INFO - [Sub][232] Connection event loop down\n",
      "2021-02-08 17:18:37,246 - huobi-client - INFO - [Sub][240] Connected to server\n",
      "2021-02-08 17:18:37,229 - huobi-client - INFO - [Sub][232] Connection event loop down\n",
      "2021-02-08 17:18:37,229 - huobi-client - INFO - [Sub][232] Connection event loop down\n",
      "2021-02-08 17:18:37,246 - huobi-client - INFO - [Sub][240] Connected to server\n",
      "2021-02-08 17:18:37,246 - huobi-client - INFO - [Sub][240] Connected to server\n",
      "2021-02-08 17:18:37,482 - huobi-client - INFO - [Sub][243] Connecting...\n",
      "2021-02-08 17:18:37,229 - huobi-client - INFO - [Sub][232] Connection event loop down\n",
      "2021-02-08 17:18:37,229 - huobi-client - INFO - [Sub][232] Connection event loop down\n",
      "2021-02-08 17:18:37,246 - huobi-client - INFO - [Sub][240] Connected to server\n",
      "2021-02-08 17:18:37,482 - huobi-client - INFO - [Sub][243] Connecting...\n",
      "2021-02-08 17:18:37,246 - huobi-client - INFO - [Sub][240] Connected to server\n",
      "2021-02-08 17:18:37,482 - huobi-client - INFO - [Sub][243] Connecting...\n",
      "2021-02-08 17:18:37,229 - huobi-client - INFO - [Sub][232] Connection event loop down\n",
      "2021-02-08 17:18:37,482 - huobi-client - INFO - [Sub][243] Connecting...\n",
      "2021-02-08 17:18:37,246 - huobi-client - INFO - [Sub][240] Connected to server\n",
      "2021-02-08 17:18:37,229 - huobi-client - INFO - [Sub][232] Connection event loop down\n",
      "2021-02-08 17:18:37,482 - huobi-client - INFO - [Sub][243] Connecting...\n",
      "2021-02-08 17:18:37,229 - huobi-client - INFO - [Sub][232] Connection event loop down\n",
      "2021-02-08 17:18:37,246 - huobi-client - INFO - [Sub][240] Connected to server\n",
      "2021-02-08 17:18:37,246 - huobi-client - INFO - [Sub][240] Connected to server\n",
      "2021-02-08 17:18:37,482 - huobi-client - INFO - [Sub][243] Connecting...\n",
      "2021-02-08 17:18:37,482 - huobi-client - INFO - [Sub][243] Connecting...\n",
      "2021-02-08 17:18:37,229 - huobi-client - INFO - [Sub][232] Connection event loop down\n",
      "2021-02-08 17:18:37,246 - huobi-client - INFO - [Sub][240] Connected to server\n",
      "2021-02-08 17:18:37,482 - huobi-client - INFO - [Sub][243] Connecting...\n",
      "2021-02-08 17:18:37,229 - huobi-client - INFO - [Sub][232] Connection event loop down\n",
      "2021-02-08 17:18:37,246 - huobi-client - INFO - [Sub][240] Connected to server\n",
      "2021-02-08 17:18:37,229 - huobi-client - INFO - [Sub][232] Connection event loop down\n",
      "2021-02-08 17:18:37,246 - huobi-client - INFO - [Sub][240] Connected to server\n",
      "2021-02-08 17:18:37,482 - huobi-client - INFO - [Sub][243] Connecting...\n",
      "2021-02-08 17:18:37,482 - huobi-client - INFO - [Sub][243] Connecting...\n",
      "2021-02-08 17:18:37,229 - huobi-client - INFO - [Sub][232] Connection event loop down\n",
      "2021-02-08 17:18:37,246 - huobi-client - INFO - [Sub][240] Connected to server\n",
      "2021-02-08 17:18:37,482 - huobi-client - INFO - [Sub][243] Connecting...\n",
      "2021-02-08 17:18:37,229 - huobi-client - INFO - [Sub][232] Connection event loop down\n",
      "2021-02-08 17:18:37,246 - huobi-client - INFO - [Sub][240] Connected to server\n",
      "2021-02-08 17:18:37,229 - huobi-client - INFO - [Sub][232] Connection event loop down\n",
      "2021-02-08 17:18:37,482 - huobi-client - INFO - [Sub][243] Connecting...\n",
      "2021-02-08 17:18:37,246 - huobi-client - INFO - [Sub][240] Connected to server\n",
      "2021-02-08 17:18:37,482 - huobi-client - INFO - [Sub][243] Connecting...\n",
      "2021-02-08 17:18:37,229 - huobi-client - INFO - [Sub][232] Connection event loop down\n",
      "2021-02-08 17:18:37,246 - huobi-client - INFO - [Sub][240] Connected to server\n",
      "2021-02-08 17:18:37,229 - huobi-client - INFO - [Sub][232] Connection event loop down\n",
      "2021-02-08 17:18:37,482 - huobi-client - INFO - [Sub][243] Connecting...\n",
      "2021-02-08 17:18:37,246 - huobi-client - INFO - [Sub][240] Connected to server\n",
      "2021-02-08 17:18:37,482 - huobi-client - INFO - [Sub][243] Connecting...\n",
      "2021-02-08 17:18:37,229 - huobi-client - INFO - [Sub][232] Connection event loop down\n",
      "2021-02-08 17:18:37,246 - huobi-client - INFO - [Sub][240] Connected to server\n",
      "2021-02-08 17:18:37,482 - huobi-client - INFO - [Sub][243] Connecting...\n",
      "2021-02-08 17:18:37,229 - huobi-client - INFO - [Sub][232] Connection event loop down\n",
      "2021-02-08 17:18:37,246 - huobi-client - INFO - [Sub][240] Connected to server\n",
      "2021-02-08 17:18:37,482 - huobi-client - INFO - [Sub][243] Connecting...\n",
      "2021-02-08 17:18:37,229 - huobi-client - INFO - [Sub][232] Connection event loop down\n",
      "2021-02-08 17:18:37,246 - huobi-client - INFO - [Sub][240] Connected to server\n",
      "2021-02-08 17:18:37,229 - huobi-client - INFO - [Sub][232] Connection event loop down\n",
      "2021-02-08 17:18:37,482 - huobi-client - INFO - [Sub][243] Connecting...\n",
      "2021-02-08 17:18:37,246 - huobi-client - INFO - [Sub][240] Connected to server\n",
      "2021-02-08 17:18:37,482 - huobi-client - INFO - [Sub][243] Connecting...\n",
      "2021-02-08 17:18:37,229 - huobi-client - INFO - [Sub][232] Connection event loop down\n",
      "2021-02-08 17:18:37,246 - huobi-client - INFO - [Sub][240] Connected to server\n",
      "2021-02-08 17:18:37,229 - huobi-client - INFO - [Sub][232] Connection event loop down\n",
      "2021-02-08 17:18:37,482 - huobi-client - INFO - [Sub][243] Connecting...\n",
      "2021-02-08 17:18:37,246 - huobi-client - INFO - [Sub][240] Connected to server\n",
      "2021-02-08 17:18:37,229 - huobi-client - INFO - [Sub][232] Connection event loop down\n",
      "2021-02-08 17:18:37,482 - huobi-client - INFO - [Sub][243] Connecting...\n",
      "2021-02-08 17:18:37,246 - huobi-client - INFO - [Sub][240] Connected to server\n",
      "2021-02-08 17:18:37,482 - huobi-client - INFO - [Sub][243] Connecting...\n",
      "2021-02-08 17:18:37,229 - huobi-client - INFO - [Sub][232] Connection event loop down\n",
      "2021-02-08 17:18:37,246 - huobi-client - INFO - [Sub][240] Connected to server\n",
      "2021-02-08 17:18:37,482 - huobi-client - INFO - [Sub][243] Connecting...\n",
      "2021-02-08 17:18:37,229 - huobi-client - INFO - [Sub][232] Connection event loop down\n",
      "2021-02-08 17:18:37,246 - huobi-client - INFO - [Sub][240] Connected to server\n",
      "2021-02-08 17:18:37,229 - huobi-client - INFO - [Sub][232] Connection event loop down\n",
      "2021-02-08 17:18:37,482 - huobi-client - INFO - [Sub][243] Connecting...\n",
      "2021-02-08 17:18:37,246 - huobi-client - INFO - [Sub][240] Connected to server\n",
      "2021-02-08 17:18:37,229 - huobi-client - INFO - [Sub][232] Connection event loop down\n",
      "2021-02-08 17:18:37,482 - huobi-client - INFO - [Sub][243] Connecting...\n",
      "2021-02-08 17:18:37,246 - huobi-client - INFO - [Sub][240] Connected to server\n",
      "2021-02-08 17:18:37,229 - huobi-client - INFO - [Sub][232] Connection event loop down\n",
      "2021-02-08 17:18:37,246 - huobi-client - INFO - [Sub][240] Connected to server\n",
      "2021-02-08 17:18:37,482 - huobi-client - INFO - [Sub][243] Connecting...\n",
      "2021-02-08 17:18:37,482 - huobi-client - INFO - [Sub][243] Connecting...\n",
      "2021-02-08 17:18:37,229 - huobi-client - INFO - [Sub][232] Connection event loop down\n",
      "2021-02-08 17:18:37,246 - huobi-client - INFO - [Sub][240] Connected to server\n",
      "2021-02-08 17:18:37,229 - huobi-client - INFO - [Sub][232] Connection event loop down\n",
      "2021-02-08 17:18:37,246 - huobi-client - INFO - [Sub][240] Connected to server\n",
      "2021-02-08 17:18:37,482 - huobi-client - INFO - [Sub][243] Connecting...\n",
      "2021-02-08 17:18:37,229 - huobi-client - INFO - [Sub][232] Connection event loop down\n",
      "2021-02-08 17:18:37,246 - huobi-client - INFO - [Sub][240] Connected to server\n",
      "2021-02-08 17:18:37,482 - huobi-client - INFO - [Sub][243] Connecting...\n",
      "2021-02-08 17:18:37,482 - huobi-client - INFO - [Sub][243] Connecting...\n",
      "2021-02-08 17:18:37,229 - huobi-client - INFO - [Sub][232] Connection event loop down\n",
      "2021-02-08 17:18:37,246 - huobi-client - INFO - [Sub][240] Connected to server\n",
      "2021-02-08 17:18:37,229 - huobi-client - INFO - [Sub][232] Connection event loop down\n",
      "2021-02-08 17:18:37,482 - huobi-client - INFO - [Sub][243] Connecting...\n",
      "2021-02-08 17:18:37,246 - huobi-client - INFO - [Sub][240] Connected to server\n",
      "2021-02-08 17:18:37,229 - huobi-client - INFO - [Sub][232] Connection event loop down\n",
      "2021-02-08 17:18:37,482 - huobi-client - INFO - [Sub][243] Connecting...\n",
      "2021-02-08 17:18:37,246 - huobi-client - INFO - [Sub][240] Connected to server\n",
      "2021-02-08 17:18:37,482 - huobi-client - INFO - [Sub][243] Connecting...\n",
      "2021-02-08 17:18:37,229 - huobi-client - INFO - [Sub][232] Connection event loop down\n",
      "2021-02-08 17:18:37,246 - huobi-client - INFO - [Sub][240] Connected to server\n",
      "2021-02-08 17:18:37,482 - huobi-client - INFO - [Sub][243] Connecting...\n",
      "2021-02-08 17:18:37,229 - huobi-client - INFO - [Sub][232] Connection event loop down\n",
      "2021-02-08 17:18:37,246 - huobi-client - INFO - [Sub][240] Connected to server\n",
      "2021-02-08 17:18:37,229 - huobi-client - INFO - [Sub][232] Connection event loop down\n",
      "2021-02-08 17:18:37,482 - huobi-client - INFO - [Sub][243] Connecting...\n",
      "2021-02-08 17:18:37,246 - huobi-client - INFO - [Sub][240] Connected to server\n",
      "2021-02-08 17:18:37,482 - huobi-client - INFO - [Sub][243] Connecting...\n",
      "2021-02-08 17:18:37,229 - huobi-client - INFO - [Sub][232] Connection event loop down\n",
      "2021-02-08 17:18:37,246 - huobi-client - INFO - [Sub][240] Connected to server\n",
      "2021-02-08 17:18:37,229 - huobi-client - INFO - [Sub][232] Connection event loop down\n",
      "2021-02-08 17:18:37,482 - huobi-client - INFO - [Sub][243] Connecting...\n",
      "2021-02-08 17:18:37,246 - huobi-client - INFO - [Sub][240] Connected to server\n",
      "2021-02-08 17:18:37,482 - huobi-client - INFO - [Sub][243] Connecting...\n",
      "2021-02-08 17:18:37,229 - huobi-client - INFO - [Sub][232] Connection event loop down\n",
      "2021-02-08 17:18:37,246 - huobi-client - INFO - [Sub][240] Connected to server\n",
      "2021-02-08 17:18:37,482 - huobi-client - INFO - [Sub][243] Connecting...\n",
      "2021-02-08 17:18:37,229 - huobi-client - INFO - [Sub][232] Connection event loop down\n",
      "2021-02-08 17:18:37,246 - huobi-client - INFO - [Sub][240] Connected to server\n",
      "2021-02-08 17:18:37,229 - huobi-client - INFO - [Sub][232] Connection event loop down\n",
      "2021-02-08 17:18:37,482 - huobi-client - INFO - [Sub][243] Connecting...\n",
      "2021-02-08 17:18:37,482 - huobi-client - INFO - [Sub][243] Connecting...\n",
      "2021-02-08 17:18:37,246 - huobi-client - INFO - [Sub][240] Connected to server\n",
      "2021-02-08 17:18:37,229 - huobi-client - INFO - [Sub][232] Connection event loop down\n",
      "2021-02-08 17:18:37,246 - huobi-client - INFO - [Sub][240] Connected to server\n",
      "2021-02-08 17:18:37,229 - huobi-client - INFO - [Sub][232] Connection event loop down\n",
      "2021-02-08 17:18:37,482 - huobi-client - INFO - [Sub][243] Connecting...\n",
      "2021-02-08 17:18:37,482 - huobi-client - INFO - [Sub][243] Connecting...\n",
      "2021-02-08 17:18:37,246 - huobi-client - INFO - [Sub][240] Connected to server\n",
      "2021-02-08 17:18:37,229 - huobi-client - INFO - [Sub][232] Connection event loop down\n",
      "2021-02-08 17:18:37,229 - huobi-client - INFO - [Sub][232] Connection event loop down\n",
      "2021-02-08 17:18:37,482 - huobi-client - INFO - [Sub][243] Connecting...\n",
      "2021-02-08 17:18:37,246 - huobi-client - INFO - [Sub][240] Connected to server\n",
      "2021-02-08 17:18:37,246 - huobi-client - INFO - [Sub][240] Connected to server\n",
      "2021-02-08 17:18:37,482 - huobi-client - INFO - [Sub][243] Connecting...\n",
      "2021-02-08 17:18:37,229 - huobi-client - INFO - [Sub][232] Connection event loop down\n",
      "2021-02-08 17:18:37,482 - huobi-client - INFO - [Sub][243] Connecting...\n",
      "2021-02-08 17:18:37,246 - huobi-client - INFO - [Sub][240] Connected to server\n",
      "2021-02-08 17:18:37,229 - huobi-client - INFO - [Sub][232] Connection event loop down\n",
      "2021-02-08 17:18:37,246 - huobi-client - INFO - [Sub][240] Connected to server\n",
      "2021-02-08 17:18:37,482 - huobi-client - INFO - [Sub][243] Connecting...\n",
      "2021-02-08 17:18:37,229 - huobi-client - INFO - [Sub][232] Connection event loop down\n",
      "2021-02-08 17:18:37,246 - huobi-client - INFO - [Sub][240] Connected to server\n",
      "2021-02-08 17:18:37,482 - huobi-client - INFO - [Sub][243] Connecting...\n",
      "2021-02-08 17:18:37,229 - huobi-client - INFO - [Sub][232] Connection event loop down\n",
      "2021-02-08 17:18:37,482 - huobi-client - INFO - [Sub][243] Connecting...\n",
      "2021-02-08 17:18:37,246 - huobi-client - INFO - [Sub][240] Connected to server\n",
      "2021-02-08 17:18:37,229 - huobi-client - INFO - [Sub][232] Connection event loop down\n",
      "2021-02-08 17:18:37,482 - huobi-client - INFO - [Sub][243] Connecting...\n",
      "2021-02-08 17:18:37,246 - huobi-client - INFO - [Sub][240] Connected to server\n",
      "2021-02-08 17:18:37,229 - huobi-client - INFO - [Sub][232] Connection event loop down\n",
      "2021-02-08 17:18:37,246 - huobi-client - INFO - [Sub][240] Connected to server\n",
      "2021-02-08 17:18:37,482 - huobi-client - INFO - [Sub][243] Connecting...\n",
      "2021-02-08 17:18:37,482 - huobi-client - INFO - [Sub][243] Connecting...\n",
      "2021-02-08 17:18:37,229 - huobi-client - INFO - [Sub][232] Connection event loop down\n",
      "2021-02-08 17:18:37,246 - huobi-client - INFO - [Sub][240] Connected to server\n",
      "2021-02-08 17:18:37,482 - huobi-client - INFO - [Sub][243] Connecting...\n",
      "2021-02-08 17:18:37,229 - huobi-client - INFO - [Sub][232] Connection event loop down\n",
      "2021-02-08 17:18:37,246 - huobi-client - INFO - [Sub][240] Connected to server\n",
      "2021-02-08 17:18:37,482 - huobi-client - INFO - [Sub][243] Connecting...\n",
      "2021-02-08 17:18:37,229 - huobi-client - INFO - [Sub][232] Connection event loop down\n",
      "2021-02-08 17:18:37,246 - huobi-client - INFO - [Sub][240] Connected to server\n",
      "2021-02-08 17:18:37,229 - huobi-client - INFO - [Sub][232] Connection event loop down\n",
      "2021-02-08 17:18:37,246 - huobi-client - INFO - [Sub][240] Connected to server\n",
      "2021-02-08 17:18:37,482 - huobi-client - INFO - [Sub][243] Connecting...\n",
      "2021-02-08 17:18:37,246 - huobi-client - INFO - [Sub][240] Connected to server\n",
      "2021-02-08 17:18:37,482 - huobi-client - INFO - [Sub][243] Connecting...\n",
      "2021-02-08 17:18:37,482 - huobi-client - INFO - [Sub][243] Connecting...\n",
      "2021-02-08 17:18:37,482 - huobi-client - INFO - [Sub][243] Connecting...\n",
      "2021-02-08 17:18:37,482 - huobi-client - INFO - [Sub][243] Connecting...\n",
      "2021-02-08 17:18:37,482 - huobi-client - INFO - [Sub][243] Connecting...\n",
      "2021-02-08 17:18:37,482 - huobi-client - INFO - [Sub][243] Connecting...\n",
      "2021-02-08 17:18:37,482 - huobi-client - INFO - [Sub][243] Connecting...\n",
      "2021-02-08 17:18:37,482 - huobi-client - INFO - [Sub][243] Connecting...\n",
      "2021-02-08 17:18:37,482 - huobi-client - INFO - [Sub][243] Connecting...\n",
      "2021-02-08 17:18:37,482 - huobi-client - INFO - [Sub][243] Connecting...\n",
      "2021-02-08 17:18:37,482 - huobi-client - INFO - [Sub][243] Connecting...\n",
      "2021-02-08 17:18:37,482 - huobi-client - INFO - [Sub][243] Connecting...\n",
      "2021-02-08 17:18:37,482 - huobi-client - INFO - [Sub][243] Connecting...\n",
      "2021-02-08 17:18:37,482 - huobi-client - INFO - [Sub][243] Connecting...\n",
      "2021-02-08 17:18:37,482 - huobi-client - INFO - [Sub][243] Connecting...\n",
      "2021-02-08 17:18:37,482 - huobi-client - INFO - [Sub][243] Connecting...\n",
      "2021-02-08 17:18:37,482 - huobi-client - INFO - [Sub][243] Connecting...\n",
      "2021-02-08 17:18:37,482 - huobi-client - INFO - [Sub][243] Connecting...\n",
      "2021-02-08 17:18:37,482 - huobi-client - INFO - [Sub][243] Connecting...\n",
      "2021-02-08 17:18:37,482 - huobi-client - INFO - [Sub][243] Connecting...\n",
      "2021-02-08 17:18:37,482 - huobi-client - INFO - [Sub][243] Connecting...\n",
      "2021-02-08 17:18:37,482 - huobi-client - INFO - [Sub][243] Connecting...\n",
      "2021-02-08 17:18:37,482 - huobi-client - INFO - [Sub][243] Connecting...\n",
      "2021-02-08 17:18:37,482 - huobi-client - INFO - [Sub][243] Connecting...\n",
      "2021-02-08 17:18:37,482 - huobi-client - INFO - [Sub][243] Connecting...\n",
      "2021-02-08 17:18:37,482 - huobi-client - INFO - [Sub][243] Connecting...\n",
      "2021-02-08 17:18:37,482 - huobi-client - INFO - [Sub][243] Connecting...\n",
      "2021-02-08 17:18:37,482 - huobi-client - INFO - [Sub][243] Connecting...\n",
      "2021-02-08 17:18:37,482 - huobi-client - INFO - [Sub][243] Connecting...\n",
      "2021-02-08 17:18:37,482 - huobi-client - INFO - [Sub][243] Connecting...\n",
      "2021-02-08 17:18:37,482 - huobi-client - INFO - [Sub][243] Connecting...\n",
      "2021-02-08 17:18:37,482 - huobi-client - INFO - [Sub][243] Connecting...\n",
      "2021-02-08 17:18:37,482 - huobi-client - INFO - [Sub][243] Connecting...\n",
      "2021-02-08 17:18:37,482 - huobi-client - INFO - [Sub][243] Connecting...\n"
     ]
    }
   ],
   "source": [
    "\n",
    "sub_client = MarketClient(init_log=True)\n",
    "for i in range(1609430400, 1612772463,300*60):\n",
    "    sub_client.req_candlestick(SYMBOL, CandlestickInterval.MIN1, callback, from_ts_second=i, end_ts_second=i+299*60, error_handler=error)\n",
    "    print(i)\n",
    "    time.sleep(0.5)"
   ]
  },
  {
   "cell_type": "code",
   "execution_count": 29,
   "metadata": {},
   "outputs": [
    {
     "output_type": "stream",
     "name": "stdout",
     "text": [
      "---- 1min candlestick for btc3lusdt ----\nId : 1613992380\nHigh : 484.5215\nLow : 482.2975\nOpen : 484.0001\nClose : 482.2975\nCount : 23\nAmount : 22.210933405638347\nVolume : 10731.44512335\n\n"
     ]
    }
   ],
   "source": [
    "market_client = MarketClient(init_log=True)\n",
    "interval = CandlestickInterval.MIN1\n",
    "symbol = \"btc3lusdt\"\n",
    "list_obj = market_client.get_candlestick(symbol, interval, 1)\n",
    "LogInfo.output(\"---- {interval} candlestick for {symbol} ----\".format(interval=interval, symbol=symbol))\n",
    "LogInfo.output_list(list_obj)"
   ]
  },
  {
   "cell_type": "code",
   "execution_count": 32,
   "metadata": {},
   "outputs": [
    {
     "output_type": "execute_result",
     "data": {
      "text/plain": [
       "Decimal('482.2975')"
      ]
     },
     "metadata": {},
     "execution_count": 32
    }
   ],
   "source": [
    "Decimal(list_obj[0].close).quantize(Decimal('.0001'), rounding=ROUND_DOWN)"
   ]
  },
  {
   "cell_type": "code",
   "execution_count": 2,
   "metadata": {},
   "outputs": [],
   "source": [
    "from huobi.privateconfig import p_api_key, p_secret_key\n",
    "from huobi.client.trade import TradeClient\n",
    "from huobi.client.market import MarketClient\n",
    "from huobi.client.wallet import WalletClient\n",
    "from huobi.client.account import AccountClient\n",
    "from huobi.constant import CandlestickInterval"
   ]
  },
  {
   "cell_type": "code",
   "execution_count": 3,
   "metadata": {},
   "outputs": [],
   "source": [
    "import time\n",
    "import datetime\n",
    "from huobi.privateconfig import p_api_key, p_secret_key\n",
    "from huobi.client.trade import TradeClient\n",
    "from huobi.client.market import MarketClient\n",
    "from huobi.client.wallet import WalletClient\n",
    "from huobi.client.account import AccountClient\n",
    "from huobi.constant import *\n",
    "from decimal import *\n",
    "import pickle\n",
    "import os\n",
    "\n",
    "\n",
    "class Trader:\n",
    "    def __init__(self):\n",
    "        self.cash = 0\n",
    "        self.stock = 0\n",
    "        self.history_data = []\n",
    "        self.active_buy_orders = {}\n",
    "        # Dict: order_id: order_id, client_order_id, order_price, time.time()\n",
    "        self.client_order_id = 6\n",
    "        self.config_file = \"config.pkl\"\n",
    "        self.order_price = Decimal(0)\n",
    "        self.target_symbol = \"btc3l\"\n",
    "        self.pair_symbol = self.target_symbol + \"usdt\"\n",
    "        self.trade_log_file = \"trade_log.txt\"\n",
    "        self.run_log_file = \"run_log.txt\"\n",
    "        self.error_log_file = \"error_log.txt\"\n",
    "        self.account_id = 1037218\n",
    "        self.last_buy_time = 0\n",
    "        self.buy_cooling_time = 30  # second\n",
    "        self.cur_time = 0\n",
    "        self.trade_client = TradeClient(api_key=p_api_key, secret_key=p_secret_key, init_log=True)\n",
    "        self.market_client = MarketClient()\n",
    "        self.account_client = AccountClient(api_key=p_api_key, secret_key=p_secret_key)\n",
    "        self.balances_detail = self.account_client.get_balance(self.account_id)\n",
    "\n",
    "        if os.path.exists(self.config_file):\n",
    "            with open(self.config_file, 'rb') as f:\n",
    "                self.client_order_id, self.active_buy_orders = pickle.load(f)\n",
    "\n",
    "    def run(self):\n",
    "        while True:\n",
    "            try:\n",
    "                self.cur_time = int(time.time())\n",
    "                if self.check_buy_condition():\n",
    "                    self.buy()\n",
    "            except Exception as e:\n",
    "                self.error_log(str(e))\n",
    "            time.sleep(2)\n",
    "            try:\n",
    "                self.update_orders()\n",
    "            except Exception as e:\n",
    "                self.error_log(str(e))\n",
    "            time.sleep(3)\n",
    "\n",
    "    def check_buy_condition(self) -> bool:\n",
    "        if self.cur_time < self.last_buy_time + self.buy_cooling_time:\n",
    "            self.trade_log(f\"TRY BUYING but in COLDTIME at {self.order_price:0.4f}\")\n",
    "            return False\n",
    "        interval = CandlestickInterval.MIN1\n",
    "        length = 30\n",
    "        list_obj = self.market_client.get_candlestick(self.pair_symbol, interval, length + 1)\n",
    "        price_sum = 0\n",
    "\n",
    "        for candlestick in list_obj[1:]:\n",
    "            price_sum += candlestick.close\n",
    "        price_sum_average = price_sum / length\n",
    "\n",
    "        self.run_log(\n",
    "            f\"{self.client_order_id} {self.active_buy_orders} {list_obj[0].close:0.4f} \" +\n",
    "            f\"{price_sum_average:0.4f} {price_sum_average*0.95:0.4f}\")\n",
    "\n",
    "        if list_obj[0].close < price_sum_average * 0.95:\n",
    "            self.order_price = Decimal(list_obj[0].close).quantize(Decimal('.0001'), rounding=ROUND_DOWN)\n",
    "            return True\n",
    "        else:\n",
    "            return False\n",
    "\n",
    "    def buy(self):\n",
    "        division = Decimal(10)\n",
    "        self.update_balance()\n",
    "        usdt_balance = Decimal(self.get_currency_balance(\"usdt\"))\n",
    "        min_order = Decimal(6)\n",
    "        if usdt_balance < min_order:\n",
    "            self.trade_log(f\"TRY BUYING but NO ENOUGH MONEY at {self.order_price:0.4f}\")\n",
    "            return\n",
    "        symbol_balance = self.get_total_currency_balance(self.target_symbol)\n",
    "        symbol_price = self.get_lastest_price(self.pair_symbol)\n",
    "        total_balance = usdt_balance + symbol_balance * symbol_price\n",
    "\n",
    "        buy_amount_usdt = max(min_order, min(total_balance / division, usdt_balance))\n",
    "        buy_amount = (buy_amount_usdt / self.order_price).quantize(Decimal('.0001'), rounding=ROUND_DOWN)\n",
    "\n",
    "        cur_timestamp = self.cur_time\n",
    "        self.client_order_id += 1\n",
    "        try:\n",
    "            order_id = self.trade_client.create_order(self.pair_symbol, self.account_id, OrderType.BUY_LIMIT,\n",
    "                                                      buy_amount, self.order_price, source=OrderSource.API,\n",
    "                                                      client_order_id=str(self.client_order_id))\n",
    "            self.last_buy_time = cur_timestamp\n",
    "            self.trade_log(f\"{order_id}: BUY ORDERED.   BUY {buy_amount} at {self.order_price}\")\n",
    "            self.active_buy_orders[order_id] = [order_id, self.client_order_id, self.order_price, cur_timestamp]\n",
    "        except Exception as e:\n",
    "            self.trade_log(f\"TRY BUYING but FAIL at {self.order_price:0.4f}\")\n",
    "            raise(e)\n",
    "\n",
    "    def update_orders(self):\n",
    "        cur_timestamp = self.cur_time\n",
    "        waiting_limit = 60 * 5\n",
    "        for order_id in list(self.active_buy_orders):\n",
    "            _, _, order_price, order_cur_timestamp = self.active_buy_orders[order_id]\n",
    "            order_obj = self.trade_client.get_order(order_id=order_id)\n",
    "            order_state = order_obj.state\n",
    "            if order_state == \"filled\":\n",
    "                sell_amount = (Decimal(order_obj.filled_amount) - Decimal(order_obj.filled_fees)\n",
    "                               ).quantize(Decimal('.0001'), rounding=ROUND_DOWN)\n",
    "                sell_price = (order_price * Decimal(1.03)).quantize(Decimal('.0001'), rounding=ROUND_DOWN)\n",
    "\n",
    "                self.trade_log(f\"{order_id}: BUY SUCCEEDED. BUY {sell_amount} at {order_price:0.4f}\")\n",
    "                self.client_order_id += 1\n",
    "                try:\n",
    "                    sell_order_id = self.trade_client.create_order(\n",
    "                        self.pair_symbol, self.account_id, OrderType.SELL_LIMIT,\n",
    "                        sell_amount, sell_price, source=OrderSource.API,\n",
    "                        client_order_id=str(self.client_order_id))\n",
    "\n",
    "                    self.trade_log(f\"{sell_order_id}: SELL ORDERED.  SELL {sell_amount} at {sell_price:0.4f}\")\n",
    "                    del self.active_buy_orders[order_id]\n",
    "                except Exception as e:\n",
    "                    self.trade_log(f\"TRY SELLING but FAIL at ORDER: {order_id}\")\n",
    "                    raise(e)\n",
    "\n",
    "            elif cur_timestamp - order_cur_timestamp > waiting_limit:\n",
    "                self.trade_client.cancel_order(self.pair_symbol, order_id)\n",
    "                self.trade_log(f\"CANCEL BUYING at {self.order_price:0.4f}\")\n",
    "                del self.active_buy_orders[order_id]\n",
    "\n",
    "        with open(self.config_file, 'wb') as f:\n",
    "            pickle.dump((self.client_order_id, self.active_buy_orders), f)\n",
    "\n",
    "    def get_currency_balance(self, currency: str) -> str:\n",
    "        balances = self.balances_detail\n",
    "        for balance in balances:\n",
    "            if balance.currency == currency and balance.type == \"trade\":\n",
    "                return balance.balance\n",
    "\n",
    "    def get_total_currency_balance(self, currency: str) -> Decimal:\n",
    "        balances = self.balances_detail\n",
    "        total_balance = Decimal(0)\n",
    "        for balance in balances:\n",
    "            if balance.currency == currency:\n",
    "                total_balance += Decimal(balance.balance)\n",
    "        return total_balance\n",
    "\n",
    "    def get_asset_valuation(self) -> str:\n",
    "        asset_valuation = self.account_client.get_account_asset_valuation(\n",
    "            account_type=\"spot\", valuation_currency=\"usd\")\n",
    "        return asset_valuation.balance\n",
    "\n",
    "    def get_lastest_price(self, pair_symbol) -> Decimal:\n",
    "        return Decimal(self.market_client.get_market_trade(symbol=pair_symbol)[0].price)\n",
    "\n",
    "    def update_balance(self):\n",
    "        self.balances_detail = self.account_client.get_balance(self.account_id)\n",
    "\n",
    "    def trade_log(self, msg: str):\n",
    "        cur_time = datetime.datetime.fromtimestamp(self.cur_time).strftime(r\"%Y%m%d_%H%M%S\")\n",
    "        print(cur_time, msg)\n",
    "        with open(self.trade_log_file, \"a+\") as f:\n",
    "            f.write(f\"{cur_time} {msg}\\n\")\n",
    "\n",
    "    def run_log(self, msg: str):\n",
    "        cur_time = datetime.datetime.fromtimestamp(self.cur_time).strftime(r\"%Y%m%d_%H%M%S\")\n",
    "        print(cur_time, msg)\n",
    "        with open(self.run_log_file, \"a+\") as f:\n",
    "            f.write(f\"{cur_time} {msg}\\n\")\n",
    "\n",
    "    def error_log(self, msg: str):\n",
    "        cur_time = datetime.datetime.fromtimestamp(self.cur_time).strftime(r\"%Y%m%d_%H%M%S\")\n",
    "        print(cur_time, msg)\n",
    "        with open(self.error_log_file, \"a+\") as f:\n",
    "            f.write(f\"{cur_time} {msg}\\n\")\n",
    "\n"
   ]
  },
  {
   "cell_type": "code",
   "execution_count": 4,
   "metadata": {},
   "outputs": [],
   "source": [
    "t=Trader(\n",
    ")"
   ]
  },
  {
   "cell_type": "code",
   "execution_count": 5,
   "metadata": {},
   "outputs": [],
   "source": [
    "t.order_price=10"
   ]
  },
  {
   "cell_type": "code",
   "execution_count": 6,
   "metadata": {},
   "outputs": [
    {
     "output_type": "stream",
     "name": "stdout",
     "text": [
      "19700101_080000 226008885863896: BUY ORDERED.   BUY 0.9643 at 10\n"
     ]
    }
   ],
   "source": [
    "t.buy()"
   ]
  },
  {
   "cell_type": "code",
   "execution_count": 7,
   "metadata": {},
   "outputs": [],
   "source": [
    "division = Decimal(10)\n",
    "t.update_balance()\n",
    "usdt_balance = Decimal(t.get_currency_balance(\"usdt\"))\n",
    "min_order = Decimal(6)\n",
    "symbol_balance = t.get_total_currency_balance(t.target_symbol)\n",
    "symbol_price = t.get_lastest_price(t.pair_symbol)\n",
    "total_balance = usdt_balance + symbol_balance * symbol_price"
   ]
  },
  {
   "cell_type": "code",
   "execution_count": 11,
   "metadata": {},
   "outputs": [
    {
     "output_type": "execute_result",
     "data": {
      "text/plain": [
       "Decimal('95.584093721069477107')"
      ]
     },
     "metadata": {},
     "execution_count": 11
    }
   ],
   "source": [
    "t.get_total_currency_balance(\"usdt\")"
   ]
  },
  {
   "cell_type": "code",
   "execution_count": 55,
   "metadata": {},
   "outputs": [],
   "source": [
    "usdt_balance = Decimal(t.get_currency_balance(\"usdt\"))\n",
    "btc3l_balance = t.get_total_currency_balance(\"btc3l\")\n",
    "btc3l_price = t.get_lastest_price(\"btc3lusdt\")\n",
    "total_balance = usdt_balance + btc3l_balance * btc3l_price"
   ]
  },
  {
   "cell_type": "code",
   "execution_count": 56,
   "metadata": {},
   "outputs": [
    {
     "output_type": "execute_result",
     "data": {
      "text/plain": [
       "Decimal('77.88349934028738938311726427')"
      ]
     },
     "metadata": {},
     "execution_count": 56
    }
   ],
   "source": [
    "total_balance"
   ]
  },
  {
   "cell_type": "code",
   "execution_count": 46,
   "metadata": {},
   "outputs": [
    {
     "output_type": "execute_result",
     "data": {
      "text/plain": [
       "Decimal('0.052077201436509253')"
      ]
     },
     "metadata": {},
     "execution_count": 46
    }
   ],
   "source": [
    "t.get_currency_balance(\"btc3l\")"
   ]
  },
  {
   "cell_type": "code",
   "execution_count": 27,
   "metadata": {},
   "outputs": [],
   "source": [
    "from huobi.client.trade import TradeClient\n",
    "from huobi.constant import *\n",
    "from huobi.utils import *\n",
    "\n",
    "symbol = \"btc3lusdt\"\n",
    "list_obj = t.trade_client.get_orders(symbol=symbol, order_state=OrderState.SUBMITTED)\n"
   ]
  },
  {
   "cell_type": "code",
   "execution_count": 28,
   "metadata": {},
   "outputs": [
    {
     "output_type": "error",
     "ename": "IndexError",
     "evalue": "list index out of range",
     "traceback": [
      "\u001b[1;31m---------------------------------------------------------------------------\u001b[0m",
      "\u001b[1;31mIndexError\u001b[0m                                Traceback (most recent call last)",
      "\u001b[1;32m<ipython-input-28-eb0495386814>\u001b[0m in \u001b[0;36m<module>\u001b[1;34m\u001b[0m\n\u001b[1;32m----> 1\u001b[1;33m \u001b[0mDecimal\u001b[0m\u001b[1;33m(\u001b[0m\u001b[0mlist_obj\u001b[0m\u001b[1;33m[\u001b[0m\u001b[1;36m0\u001b[0m\u001b[1;33m]\u001b[0m\u001b[1;33m.\u001b[0m\u001b[0mclose\u001b[0m\u001b[1;33m)\u001b[0m\u001b[1;33m\u001b[0m\u001b[1;33m\u001b[0m\u001b[0m\n\u001b[0m",
      "\u001b[1;31mIndexError\u001b[0m: list index out of range"
     ]
    }
   ],
   "source": [
    "Decimal(list_obj[0].close)"
   ]
  },
  {
   "cell_type": "code",
   "execution_count": 13,
   "metadata": {},
   "outputs": [
    {
     "output_type": "execute_result",
     "data": {
      "text/plain": [
       "False"
      ]
     },
     "metadata": {},
     "execution_count": 13
    }
   ],
   "source": [
    "t.check_buy_condition()"
   ]
  },
  {
   "cell_type": "code",
   "execution_count": 147,
   "metadata": {},
   "outputs": [
    {
     "output_type": "execute_result",
     "data": {
      "text/plain": [
       "{}"
      ]
     },
     "metadata": {},
     "execution_count": 147
    }
   ],
   "source": [
    "t.active_buy_orders"
   ]
  },
  {
   "cell_type": "code",
   "execution_count": 40,
   "metadata": {},
   "outputs": [],
   "source": [
    "def check():\n",
    "    while True:\n",
    "        if t.check_buy_condition():\n",
    "            alert(\"buy!!\")\n",
    "        time.sleep(2)"
   ]
  },
  {
   "cell_type": "code",
   "execution_count": null,
   "metadata": {},
   "outputs": [],
   "source": [
    "check()"
   ]
  },
  {
   "cell_type": "code",
   "execution_count": 13,
   "metadata": {},
   "outputs": [],
   "source": [
    "balances = t.account_client.get_balance(1037218)"
   ]
  },
  {
   "cell_type": "code",
   "execution_count": 21,
   "metadata": {},
   "outputs": [
    {
     "output_type": "stream",
     "name": "stdout",
     "text": [
      "0.060232213775299004\n0\n"
     ]
    }
   ],
   "source": [
    "for balance in balances:\n",
    "    if balance.currency == \"btc3l\":\n",
    "        print(balance.balance)"
   ]
  },
  {
   "cell_type": "code",
   "execution_count": 89,
   "metadata": {},
   "outputs": [],
   "source": [
    "a=MarketClient()"
   ]
  },
  {
   "cell_type": "code",
   "execution_count": 90,
   "metadata": {},
   "outputs": [],
   "source": [
    "kk=a.get_candlestick(\"btc3lusdt\", CandlestickInterval.MIN1, 30)"
   ]
  },
  {
   "cell_type": "code",
   "execution_count": 92,
   "metadata": {},
   "outputs": [
    {
     "output_type": "execute_result",
     "data": {
      "text/plain": [
       "float"
      ]
     },
     "metadata": {},
     "execution_count": 92
    }
   ],
   "source": [
    "type(kk[0].close)"
   ]
  },
  {
   "cell_type": "code",
   "execution_count": 41,
   "metadata": {},
   "outputs": [
    {
     "output_type": "execute_result",
     "data": {
      "text/plain": [
       "1037218"
      ]
     },
     "metadata": {},
     "execution_count": 41
    }
   ],
   "source": [
    "t.account_id"
   ]
  },
  {
   "cell_type": "code",
   "execution_count": null,
   "metadata": {},
   "outputs": [],
   "source": [
    "204610773149465"
   ]
  },
  {
   "cell_type": "code",
   "execution_count": null,
   "metadata": {},
   "outputs": [],
   "source": []
  },
  {
   "cell_type": "code",
   "execution_count": 35,
   "metadata": {},
   "outputs": [
    {
     "output_type": "execute_result",
     "data": {
      "text/plain": [
       "140727743193488"
      ]
     },
     "metadata": {},
     "execution_count": 35
    }
   ],
   "source": [
    "id(1)"
   ]
  },
  {
   "cell_type": "code",
   "execution_count": 34,
   "metadata": {},
   "outputs": [
    {
     "output_type": "execute_result",
     "data": {
      "text/plain": [
       "['__add__',\n",
       " '__class__',\n",
       " '__contains__',\n",
       " '__delattr__',\n",
       " '__delitem__',\n",
       " '__dir__',\n",
       " '__doc__',\n",
       " '__eq__',\n",
       " '__format__',\n",
       " '__ge__',\n",
       " '__getattribute__',\n",
       " '__getitem__',\n",
       " '__gt__',\n",
       " '__hash__',\n",
       " '__iadd__',\n",
       " '__imul__',\n",
       " '__init__',\n",
       " '__init_subclass__',\n",
       " '__iter__',\n",
       " '__le__',\n",
       " '__len__',\n",
       " '__lt__',\n",
       " '__mul__',\n",
       " '__ne__',\n",
       " '__new__',\n",
       " '__reduce__',\n",
       " '__reduce_ex__',\n",
       " '__repr__',\n",
       " '__reversed__',\n",
       " '__rmul__',\n",
       " '__setattr__',\n",
       " '__setitem__',\n",
       " '__sizeof__',\n",
       " '__str__',\n",
       " '__subclasshook__',\n",
       " 'append',\n",
       " 'clear',\n",
       " 'copy',\n",
       " 'count',\n",
       " 'extend',\n",
       " 'index',\n",
       " 'insert',\n",
       " 'pop',\n",
       " 'remove',\n",
       " 'reverse',\n",
       " 'sort']"
      ]
     },
     "metadata": {},
     "execution_count": 34
    }
   ],
   "source": [
    "dir([])"
   ]
  },
  {
   "cell_type": "code",
   "execution_count": 24,
   "metadata": {},
   "outputs": [
    {
     "output_type": "execute_result",
     "data": {
      "text/plain": [
       "485.6734044"
      ]
     },
     "metadata": {},
     "execution_count": 24
    }
   ],
   "source": [
    "487.6239*0.996"
   ]
  },
  {
   "cell_type": "code",
   "execution_count": 45,
   "metadata": {},
   "outputs": [
    {
     "output_type": "execute_result",
     "data": {
      "text/plain": [
       "'20210222_192457'"
      ]
     },
     "metadata": {},
     "execution_count": 45
    }
   ],
   "source": [
    "import datetime\n",
    "datetime.datetime.fromtimestamp(time.time()).strftime(r\"%Y%m%d_%H%M%S\")"
   ]
  },
  {
   "cell_type": "code",
   "execution_count": 43,
   "metadata": {},
   "outputs": [
    {
     "output_type": "error",
     "ename": "SyntaxError",
     "evalue": "positional argument follows keyword argument (<ipython-input-43-a3fbe5f5c34f>, line 1)",
     "traceback": [
      "\u001b[1;36m  File \u001b[1;32m\"<ipython-input-43-a3fbe5f5c34f>\"\u001b[1;36m, line \u001b[1;32m1\u001b[0m\n\u001b[1;33m    time.strftime(struct_time=r\"%Y%m%d_%H%M%S\",time.time())\u001b[0m\n\u001b[1;37m                                              ^\u001b[0m\n\u001b[1;31mSyntaxError\u001b[0m\u001b[1;31m:\u001b[0m positional argument follows keyword argument\n"
     ]
    }
   ],
   "source": [
    "time.strftime(r\"%Y%m%d_%H%M%S\",time.time())"
   ]
  },
  {
   "cell_type": "code",
   "execution_count": 25,
   "metadata": {},
   "outputs": [
    {
     "output_type": "error",
     "ename": "HuobiApiException",
     "evalue": "('ExecuteError', '[Executing] order-orderprice-precision-error: order price precision error, scale: `4`')",
     "traceback": [
      "\u001b[1;31m---------------------------------------------------------------------------\u001b[0m",
      "\u001b[1;31mHuobiApiException\u001b[0m                         Traceback (most recent call last)",
      "\u001b[1;32m<ipython-input-25-d9078b68c38c>\u001b[0m in \u001b[0;36m<module>\u001b[1;34m\u001b[0m\n\u001b[0;32m      1\u001b[0m t.trade_client.create_order(\"btc3lusdt\", t.account_id, OrderType.BUY_LIMIT,1, Decimal(\"10.0000001\"), source=OrderSource.API,\n\u001b[1;32m----> 2\u001b[1;33m client_order_id=\"1000000000107\")\n\u001b[0m",
      "\u001b[1;32mc:\\Users\\neal\\Projects\\huobi_Python\\huobi\\client\\trade.py\u001b[0m in \u001b[0;36mcreate_order\u001b[1;34m(self, symbol, account_id, order_type, amount, price, source, client_order_id, stop_price, operator)\u001b[0m\n\u001b[0;32m    348\u001b[0m                      price, source, client_order_id, stop_price, operator)\n\u001b[0;32m    349\u001b[0m         \u001b[1;32mfrom\u001b[0m \u001b[0mhuobi\u001b[0m\u001b[1;33m.\u001b[0m\u001b[0mservice\u001b[0m\u001b[1;33m.\u001b[0m\u001b[0mtrade\u001b[0m\u001b[1;33m.\u001b[0m\u001b[0mpost_create_order\u001b[0m \u001b[1;32mimport\u001b[0m \u001b[0mPostCreateOrderService\u001b[0m\u001b[1;33m\u001b[0m\u001b[1;33m\u001b[0m\u001b[0m\n\u001b[1;32m--> 350\u001b[1;33m         \u001b[1;32mreturn\u001b[0m \u001b[0mPostCreateOrderService\u001b[0m\u001b[1;33m(\u001b[0m\u001b[0mparams\u001b[0m\u001b[1;33m)\u001b[0m\u001b[1;33m.\u001b[0m\u001b[0mrequest\u001b[0m\u001b[1;33m(\u001b[0m\u001b[1;33m**\u001b[0m\u001b[0mself\u001b[0m\u001b[1;33m.\u001b[0m\u001b[0m__kwargs\u001b[0m\u001b[1;33m)\u001b[0m\u001b[1;33m\u001b[0m\u001b[1;33m\u001b[0m\u001b[0m\n\u001b[0m\u001b[0;32m    351\u001b[0m \u001b[1;33m\u001b[0m\u001b[0m\n\u001b[0;32m    352\u001b[0m     def create_spot_order(self, symbol: 'str', account_id: 'int', order_type: 'OrderType', amount: 'float',\n",
      "\u001b[1;32mc:\\Users\\neal\\Projects\\huobi_Python\\huobi\\service\\trade\\post_create_order.py\u001b[0m in \u001b[0;36mrequest\u001b[1;34m(self, **kwargs)\u001b[0m\n\u001b[0;32m     15\u001b[0m             \u001b[1;32mreturn\u001b[0m \u001b[0mdefault_parse_data_as_long\u001b[0m\u001b[1;33m(\u001b[0m\u001b[0mdict_data\u001b[0m\u001b[1;33m,\u001b[0m \u001b[1;32mNone\u001b[0m\u001b[1;33m)\u001b[0m\u001b[1;33m\u001b[0m\u001b[1;33m\u001b[0m\u001b[0m\n\u001b[0;32m     16\u001b[0m \u001b[1;33m\u001b[0m\u001b[0m\n\u001b[1;32m---> 17\u001b[1;33m         \u001b[1;32mreturn\u001b[0m \u001b[0mRestApiSyncClient\u001b[0m\u001b[1;33m(\u001b[0m\u001b[1;33m**\u001b[0m\u001b[0mkwargs\u001b[0m\u001b[1;33m)\u001b[0m\u001b[1;33m.\u001b[0m\u001b[0mrequest_process\u001b[0m\u001b[1;33m(\u001b[0m\u001b[0mHttpMethod\u001b[0m\u001b[1;33m.\u001b[0m\u001b[0mPOST_SIGN\u001b[0m\u001b[1;33m,\u001b[0m \u001b[0mchannel\u001b[0m\u001b[1;33m,\u001b[0m \u001b[0mself\u001b[0m\u001b[1;33m.\u001b[0m\u001b[0mparams\u001b[0m\u001b[1;33m,\u001b[0m \u001b[0mparse\u001b[0m\u001b[1;33m)\u001b[0m\u001b[1;33m\u001b[0m\u001b[1;33m\u001b[0m\u001b[0m\n\u001b[0m\u001b[0;32m     18\u001b[0m \u001b[1;33m\u001b[0m\u001b[0m\n\u001b[0;32m     19\u001b[0m \u001b[1;33m\u001b[0m\u001b[0m\n",
      "\u001b[1;32mc:\\Users\\neal\\Projects\\huobi_Python\\huobi\\connection\\restapi_sync_client.py\u001b[0m in \u001b[0;36mrequest_process\u001b[1;34m(self, method, url, params, parse)\u001b[0m\n\u001b[0;32m    114\u001b[0m             \u001b[1;32mreturn\u001b[0m \u001b[0mself\u001b[0m\u001b[1;33m.\u001b[0m\u001b[0mrequest_process_performance\u001b[0m\u001b[1;33m(\u001b[0m\u001b[0mmethod\u001b[0m\u001b[1;33m,\u001b[0m \u001b[0murl\u001b[0m\u001b[1;33m,\u001b[0m \u001b[0mparams\u001b[0m\u001b[1;33m,\u001b[0m \u001b[0mparse\u001b[0m\u001b[1;33m)\u001b[0m\u001b[1;33m\u001b[0m\u001b[1;33m\u001b[0m\u001b[0m\n\u001b[0;32m    115\u001b[0m         \u001b[1;32melse\u001b[0m\u001b[1;33m:\u001b[0m\u001b[1;33m\u001b[0m\u001b[1;33m\u001b[0m\u001b[0m\n\u001b[1;32m--> 116\u001b[1;33m             \u001b[1;32mreturn\u001b[0m \u001b[0mself\u001b[0m\u001b[1;33m.\u001b[0m\u001b[0mrequest_process_product\u001b[0m\u001b[1;33m(\u001b[0m\u001b[0mmethod\u001b[0m\u001b[1;33m,\u001b[0m \u001b[0murl\u001b[0m\u001b[1;33m,\u001b[0m \u001b[0mparams\u001b[0m\u001b[1;33m,\u001b[0m \u001b[0mparse\u001b[0m\u001b[1;33m)\u001b[0m\u001b[1;33m\u001b[0m\u001b[1;33m\u001b[0m\u001b[0m\n\u001b[0m\u001b[0;32m    117\u001b[0m \u001b[1;33m\u001b[0m\u001b[0m\n\u001b[0;32m    118\u001b[0m     \u001b[1;32mdef\u001b[0m \u001b[0mrequest_process_product\u001b[0m\u001b[1;33m(\u001b[0m\u001b[0mself\u001b[0m\u001b[1;33m,\u001b[0m \u001b[0mmethod\u001b[0m\u001b[1;33m,\u001b[0m \u001b[0murl\u001b[0m\u001b[1;33m,\u001b[0m \u001b[0mparams\u001b[0m\u001b[1;33m,\u001b[0m \u001b[0mparse\u001b[0m\u001b[1;33m)\u001b[0m\u001b[1;33m:\u001b[0m\u001b[1;33m\u001b[0m\u001b[1;33m\u001b[0m\u001b[0m\n",
      "\u001b[1;32mc:\\Users\\neal\\Projects\\huobi_Python\\huobi\\connection\\restapi_sync_client.py\u001b[0m in \u001b[0;36mrequest_process_product\u001b[1;34m(self, method, url, params, parse)\u001b[0m\n\u001b[0;32m    119\u001b[0m         \u001b[0mrequest\u001b[0m \u001b[1;33m=\u001b[0m \u001b[0mself\u001b[0m\u001b[1;33m.\u001b[0m\u001b[0mcreate_request\u001b[0m\u001b[1;33m(\u001b[0m\u001b[0mmethod\u001b[0m\u001b[1;33m,\u001b[0m \u001b[0murl\u001b[0m\u001b[1;33m,\u001b[0m \u001b[0mparams\u001b[0m\u001b[1;33m,\u001b[0m \u001b[0mparse\u001b[0m\u001b[1;33m)\u001b[0m\u001b[1;33m\u001b[0m\u001b[1;33m\u001b[0m\u001b[0m\n\u001b[0;32m    120\u001b[0m         \u001b[1;32mif\u001b[0m \u001b[0mrequest\u001b[0m\u001b[1;33m:\u001b[0m\u001b[1;33m\u001b[0m\u001b[1;33m\u001b[0m\u001b[0m\n\u001b[1;32m--> 121\u001b[1;33m             \u001b[1;32mreturn\u001b[0m \u001b[0mcall_sync\u001b[0m\u001b[1;33m(\u001b[0m\u001b[0mrequest\u001b[0m\u001b[1;33m)\u001b[0m\u001b[1;33m\u001b[0m\u001b[1;33m\u001b[0m\u001b[0m\n\u001b[0m\u001b[0;32m    122\u001b[0m \u001b[1;33m\u001b[0m\u001b[0m\n\u001b[0;32m    123\u001b[0m         \u001b[1;32mreturn\u001b[0m \u001b[1;32mNone\u001b[0m\u001b[1;33m\u001b[0m\u001b[1;33m\u001b[0m\u001b[0m\n",
      "\u001b[1;32mc:\\Users\\neal\\Projects\\huobi_Python\\huobi\\connection\\impl\\restapi_invoker.py\u001b[0m in \u001b[0;36mcall_sync\u001b[1;34m(request, is_checked)\u001b[0m\n\u001b[0;32m     66\u001b[0m         \u001b[0mdict_data\u001b[0m \u001b[1;33m=\u001b[0m \u001b[0mjson\u001b[0m\u001b[1;33m.\u001b[0m\u001b[0mloads\u001b[0m\u001b[1;33m(\u001b[0m\u001b[0mresponse\u001b[0m\u001b[1;33m.\u001b[0m\u001b[0mtext\u001b[0m\u001b[1;33m,\u001b[0m \u001b[0mencoding\u001b[0m\u001b[1;33m=\u001b[0m\u001b[1;34m\"utf-8\"\u001b[0m\u001b[1;33m)\u001b[0m\u001b[1;33m\u001b[0m\u001b[1;33m\u001b[0m\u001b[0m\n\u001b[0;32m     67\u001b[0m         \u001b[1;31m# print(\"call_sync  === recv data : \", dict_data)\u001b[0m\u001b[1;33m\u001b[0m\u001b[1;33m\u001b[0m\u001b[1;33m\u001b[0m\u001b[0m\n\u001b[1;32m---> 68\u001b[1;33m         \u001b[0mcheck_response\u001b[0m\u001b[1;33m(\u001b[0m\u001b[0mdict_data\u001b[0m\u001b[1;33m)\u001b[0m\u001b[1;33m\u001b[0m\u001b[1;33m\u001b[0m\u001b[0m\n\u001b[0m\u001b[0;32m     69\u001b[0m         \u001b[1;32mreturn\u001b[0m \u001b[0mrequest\u001b[0m\u001b[1;33m.\u001b[0m\u001b[0mjson_parser\u001b[0m\u001b[1;33m(\u001b[0m\u001b[0mdict_data\u001b[0m\u001b[1;33m)\u001b[0m\u001b[1;33m\u001b[0m\u001b[1;33m\u001b[0m\u001b[0m\n\u001b[0;32m     70\u001b[0m \u001b[1;33m\u001b[0m\u001b[0m\n",
      "\u001b[1;32mc:\\Users\\neal\\Projects\\huobi_Python\\huobi\\connection\\impl\\restapi_invoker.py\u001b[0m in \u001b[0;36mcheck_response\u001b[1;34m(dict_data)\u001b[0m\n\u001b[0;32m     22\u001b[0m                 \u001b[0merr_msg\u001b[0m \u001b[1;33m=\u001b[0m \u001b[0mdict_data\u001b[0m\u001b[1;33m.\u001b[0m\u001b[0mget\u001b[0m\u001b[1;33m(\u001b[0m\u001b[1;34m\"err-msg\"\u001b[0m\u001b[1;33m,\u001b[0m \u001b[1;34m\"\"\u001b[0m\u001b[1;33m)\u001b[0m\u001b[1;33m\u001b[0m\u001b[1;33m\u001b[0m\u001b[0m\n\u001b[0;32m     23\u001b[0m                 raise HuobiApiException(HuobiApiException.EXEC_ERROR,\n\u001b[1;32m---> 24\u001b[1;33m                                         \"[Executing] \" + str(err_code) + \": \" + err_msg)\n\u001b[0m\u001b[0;32m     25\u001b[0m             \u001b[1;32melif\u001b[0m \u001b[0mstatus\u001b[0m \u001b[1;33m!=\u001b[0m \u001b[1;34m\"ok\"\u001b[0m\u001b[1;33m:\u001b[0m\u001b[1;33m\u001b[0m\u001b[1;33m\u001b[0m\u001b[0m\n\u001b[0;32m     26\u001b[0m                 raise HuobiApiException(HuobiApiException.RUNTIME_ERROR,\n",
      "\u001b[1;31mHuobiApiException\u001b[0m: ('ExecuteError', '[Executing] order-orderprice-precision-error: order price precision error, scale: `4`')"
     ]
    }
   ],
   "source": [
    "t.trade_client.create_order(\"btc3lusdt\", t.account_id, OrderType.BUY_LIMIT,1, Decimal(\"asdasdadas\"), source=OrderSource.API,\n",
    "client_order_id=\"1000000000107\")"
   ]
  },
  {
   "cell_type": "code",
   "execution_count": 12,
   "metadata": {},
   "outputs": [
    {
     "output_type": "execute_result",
     "data": {
      "text/plain": [
       "226008885863896"
      ]
     },
     "metadata": {},
     "execution_count": 12
    }
   ],
   "source": [
    "t.trade_client.cancel_order(\"btc3lusdt\", 226008885863896)"
   ]
  },
  {
   "cell_type": "code",
   "execution_count": 28,
   "metadata": {},
   "outputs": [],
   "source": [
    "orderObj = t.trade_client.get_order(order_id=204610773149465)"
   ]
  },
  {
   "cell_type": "code",
   "execution_count": 81,
   "metadata": {},
   "outputs": [
    {
     "output_type": "execute_result",
     "data": {
      "text/plain": [
       "['__class__',\n",
       " '__delattr__',\n",
       " '__dict__',\n",
       " '__dir__',\n",
       " '__doc__',\n",
       " '__eq__',\n",
       " '__format__',\n",
       " '__ge__',\n",
       " '__getattribute__',\n",
       " '__gt__',\n",
       " '__hash__',\n",
       " '__init__',\n",
       " '__init_subclass__',\n",
       " '__le__',\n",
       " '__lt__',\n",
       " '__module__',\n",
       " '__ne__',\n",
       " '__new__',\n",
       " '__reduce__',\n",
       " '__reduce_ex__',\n",
       " '__repr__',\n",
       " '__setattr__',\n",
       " '__sizeof__',\n",
       " '__str__',\n",
       " '__subclasshook__',\n",
       " '__weakref__',\n",
       " 'account_id',\n",
       " 'amount',\n",
       " 'canceled_at',\n",
       " 'client_order_id',\n",
       " 'created_at',\n",
       " 'filled_amount',\n",
       " 'filled_cash_amount',\n",
       " 'filled_fees',\n",
       " 'finished_at',\n",
       " 'id',\n",
       " 'json_parse',\n",
       " 'json_parse_list',\n",
       " 'next_time',\n",
       " 'operator',\n",
       " 'price',\n",
       " 'print_object',\n",
       " 'source',\n",
       " 'state',\n",
       " 'stop_price',\n",
       " 'symbol',\n",
       " 'type']"
      ]
     },
     "metadata": {},
     "execution_count": 81
    }
   ],
   "source": [
    "dir(orderObj)"
   ]
  },
  {
   "cell_type": "code",
   "execution_count": 30,
   "metadata": {},
   "outputs": [
    {
     "output_type": "execute_result",
     "data": {
      "text/plain": [
       "'submitted'"
      ]
     },
     "metadata": {},
     "execution_count": 30
    }
   ],
   "source": [
    "orderObj.state"
   ]
  },
  {
   "cell_type": "code",
   "execution_count": 74,
   "metadata": {},
   "outputs": [
    {
     "output_type": "execute_result",
     "data": {
      "text/plain": [
       "0.998"
      ]
     },
     "metadata": {},
     "execution_count": 74
    }
   ],
   "source": [
    "(float(orderObj.filled_amount) - float(orderObj.filled_fees))*10000"
   ]
  },
  {
   "cell_type": "code",
   "execution_count": 93,
   "metadata": {},
   "outputs": [
    {
     "output_type": "execute_result",
     "data": {
      "text/plain": [
       "float"
      ]
     },
     "metadata": {},
     "execution_count": 93
    }
   ],
   "source": [
    "type(time.time())"
   ]
  },
  {
   "cell_type": "code",
   "execution_count": 104,
   "metadata": {},
   "outputs": [],
   "source": [
    "import math"
   ]
  },
  {
   "cell_type": "code",
   "execution_count": 94,
   "metadata": {},
   "outputs": [],
   "source": [
    "from decimal import *"
   ]
  },
  {
   "cell_type": "code",
   "execution_count": 106,
   "metadata": {},
   "outputs": [
    {
     "output_type": "error",
     "ename": "TypeError",
     "evalue": "floor() takes exactly one argument (2 given)",
     "traceback": [
      "\u001b[1;31m---------------------------------------------------------------------------\u001b[0m",
      "\u001b[1;31mTypeError\u001b[0m                                 Traceback (most recent call last)",
      "\u001b[1;32m<ipython-input-106-4064ad8116c0>\u001b[0m in \u001b[0;36m<module>\u001b[1;34m\u001b[0m\n\u001b[1;32m----> 1\u001b[1;33m \u001b[0mmath\u001b[0m\u001b[1;33m.\u001b[0m\u001b[0mfloor\u001b[0m\u001b[1;33m(\u001b[0m\u001b[0mDecimal\u001b[0m\u001b[1;33m(\u001b[0m\u001b[1;34m'10000.000'\u001b[0m\u001b[1;33m)\u001b[0m\u001b[1;33m/\u001b[0m\u001b[0mDecimal\u001b[0m\u001b[1;33m(\u001b[0m\u001b[1;34m'6'\u001b[0m\u001b[1;33m)\u001b[0m\u001b[1;33m,\u001b[0m\u001b[1;36m2\u001b[0m\u001b[1;33m)\u001b[0m\u001b[1;33m\u001b[0m\u001b[1;33m\u001b[0m\u001b[0m\n\u001b[0m",
      "\u001b[1;31mTypeError\u001b[0m: floor() takes exactly one argument (2 given)"
     ]
    }
   ],
   "source": [
    "math.floor(Decimal('10000.000')/Decimal('6'),2)"
   ]
  },
  {
   "cell_type": "code",
   "execution_count": 114,
   "metadata": {},
   "outputs": [
    {
     "output_type": "execute_result",
     "data": {
      "text/plain": [
       "'1666.38'"
      ]
     },
     "metadata": {},
     "execution_count": 114
    }
   ],
   "source": [
    "str((Decimal('10000.000')/Decimal(6.001)).quantize(Decimal('.01'), rounding=ROUND_DOWN))"
   ]
  },
  {
   "cell_type": "code",
   "execution_count": 116,
   "metadata": {},
   "outputs": [
    {
     "output_type": "execute_result",
     "data": {
      "text/plain": [
       "5"
      ]
     },
     "metadata": {},
     "execution_count": 116
    }
   ],
   "source": [
    "max(5,Decimal(4))\n"
   ]
  },
  {
   "cell_type": "code",
   "execution_count": 117,
   "metadata": {},
   "outputs": [
    {
     "output_type": "execute_result",
     "data": {
      "text/plain": [
       "'4aaa'"
      ]
     },
     "metadata": {},
     "execution_count": 117
    }
   ],
   "source": [
    "f\"{Decimal(4)}aaa\""
   ]
  },
  {
   "cell_type": "code",
   "execution_count": 118,
   "metadata": {},
   "outputs": [
    {
     "output_type": "execute_result",
     "data": {
      "text/plain": [
       "<huobi.model.account.account_asset_valuation.AccountAssetValuationResult at 0x1f15c4f5c48>"
      ]
     },
     "metadata": {},
     "execution_count": 118
    }
   ],
   "source": [
    "t.account_client.get_account_asset_valuation(\n",
    "            account_type=\"spot\", valuation_currency=\"usd\")"
   ]
  },
  {
   "cell_type": "code",
   "execution_count": 119,
   "metadata": {},
   "outputs": [],
   "source": [
    "a=_"
   ]
  },
  {
   "cell_type": "code",
   "execution_count": 120,
   "metadata": {},
   "outputs": [
    {
     "output_type": "execute_result",
     "data": {
      "text/plain": [
       "'47.11'"
      ]
     },
     "metadata": {},
     "execution_count": 120
    }
   ],
   "source": [
    "a.balance"
   ]
  },
  {
   "cell_type": "code",
   "execution_count": 3,
   "metadata": {},
   "outputs": [],
   "source": [
    "a=1\n",
    "b=2"
   ]
  },
  {
   "cell_type": "code",
   "execution_count": 4,
   "metadata": {},
   "outputs": [],
   "source": [
    "with open(\"zzz.pkl\", 'wb') as f:\n",
    "    pickle.dump((a,b), f)"
   ]
  },
  {
   "cell_type": "code",
   "execution_count": 5,
   "metadata": {},
   "outputs": [],
   "source": [
    "with open(\"zzz.pkl\", 'rb') as f:\n",
    "    a,b=pickle.load(f)"
   ]
  },
  {
   "cell_type": "code",
   "execution_count": 7,
   "metadata": {},
   "outputs": [
    {
     "output_type": "execute_result",
     "data": {
      "text/plain": [
       "2"
      ]
     },
     "metadata": {},
     "execution_count": 7
    }
   ],
   "source": [
    "b"
   ]
  },
  {
   "cell_type": "code",
   "execution_count": null,
   "metadata": {},
   "outputs": [],
   "source": []
  }
 ]
}